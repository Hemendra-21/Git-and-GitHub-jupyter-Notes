{
 "cells": [
  {
   "cell_type": "markdown",
   "metadata": {},
   "source": [
    "# Directory creation\n",
    "create Directory to store code files across directory"
   ]
  },
  {
   "cell_type": "markdown",
   "metadata": {
    "vscode": {
     "languageId": "git-commit"
    }
   },
   "source": [
    "# mkdir projects\n",
    "# cd projects\n",
    "\n",
    "# mkdir project1 \n",
    "# cd project1\n",
    "\n",
    "# touch file1.txt\n",
    "# touch file2.txt\n",
    "\n",
    "# ls\n",
    "  - to see the files in the folder \n",
    "# ls -a \n",
    "  - to see the hidden files in the folder"
   ]
  },
  {
   "cell_type": "markdown",
   "metadata": {},
   "source": [
    "# To check status of the files"
   ]
  },
  {
   "cell_type": "markdown",
   "metadata": {},
   "source": [
    "# git status"
   ]
  },
  {
   "cell_type": "markdown",
   "metadata": {},
   "source": [
    "it will show us the branch that we are in...\n",
    "by default branch will be master\n",
    "\n",
    "files will be un-tracked by default\n",
    "\n",
    "it shows like this ->"
   ]
  },
  {
   "cell_type": "markdown",
   "metadata": {},
   "source": [
    "```python\n",
    "On branch master\n",
    "\n",
    "No commits yet\n",
    "\n",
    "Untracked files:\n",
    "  (use \"git add <file>...\" to include in what will be committed)\n",
    "\tfile1.txt\n",
    "\tfile2.txt\n",
    "\n",
    "nothing added to commit but untracked files present (use \"git add\" to track)\n",
    "```"
   ]
  },
  {
   "cell_type": "markdown",
   "metadata": {},
   "source": [
    "# To track the changes\n"
   ]
  },
  {
   "cell_type": "markdown",
   "metadata": {},
   "source": [
    "### Add change to Staging Area"
   ]
  },
  {
   "cell_type": "markdown",
   "metadata": {
    "vscode": {
     "languageId": "plaintext"
    }
   },
   "source": [
    "# git add file1.txt file2.txt\n",
    "\n",
    "If you want all the files on the local directory add to the staging area, instead of typing all the filenames...do simply\n",
    "\n",
    "# git add .\n",
    "\n",
    "it will add all un-tracked files to staging area."
   ]
  },
  {
   "cell_type": "markdown",
   "metadata": {},
   "source": [
    "to check whether these files are added to staging area \n",
    "\n",
    "# git ls-files\n",
    "\n",
    "this command shows all the files that are added to the staging area."
   ]
  },
  {
   "cell_type": "markdown",
   "metadata": {},
   "source": [
    "# git status"
   ]
  },
  {
   "cell_type": "markdown",
   "metadata": {},
   "source": [
    "```python\n",
    "On branch master\n",
    "\n",
    "No commits yet\n",
    "\n",
    "Changes to be committed:\n",
    "  (use \"git rm --cached <file>...\" to unstage)\n",
    "\tnew file:   file1.txt\n",
    "\tnew file:   file2.txt\n",
    "```"
   ]
  },
  {
   "cell_type": "markdown",
   "metadata": {},
   "source": [
    "Before you commit all your files from the staging area...if you want to remove some files to commit...you need to remove those from staging area.\n",
    "\n",
    "# git rm --cached <filename>\n",
    "\n",
    "this command un-stages the file"
   ]
  },
  {
   "cell_type": "markdown",
   "metadata": {},
   "source": [
    "# Commit change to Git repo"
   ]
  },
  {
   "cell_type": "markdown",
   "metadata": {
    "vscode": {
     "languageId": "plaintext"
    }
   },
   "source": [
    "# git commit -m 'added a dummy file'"
   ]
  },
  {
   "cell_type": "markdown",
   "metadata": {},
   "source": [
    "# Using Git log"
   ]
  },
  {
   "cell_type": "markdown",
   "metadata": {},
   "source": [
    "# git log\n",
    "\n",
    "this code will display all the logs....latest log will be displayed on top"
   ]
  },
  {
   "cell_type": "markdown",
   "metadata": {},
   "source": [
    "```python\n",
    "commit 276079b0b271320cee421d73a5e0ad841f61cb26 (HEAD -> master)\n",
    "Author: hemendra <hemendra2k1@gmail.com>\n",
    "Date:   Tue Apr 1 13:17:49 2025 +0530\n",
    "\n",
    "    first commit\n",
    "```\n"
   ]
  },
  {
   "cell_type": "markdown",
   "metadata": {},
   "source": [
    "we can display the log info in one single line as well\n",
    "\n",
    "# git log --oneline"
   ]
  },
  {
   "cell_type": "markdown",
   "metadata": {},
   "source": [
    "master branch is the main branch and it is the brach that is used for production.\n",
    "\n",
    "so making changes directly on master branch is not good.\n",
    "that's why we should create a new branch... make modifications in it and merge it finally."
   ]
  },
  {
   "cell_type": "markdown",
   "metadata": {},
   "source": [
    "# git branch\n",
    "    - this command shows all the existing branches.\n",
    "    - branch with a star represents the current branch you are in."
   ]
  },
  {
   "cell_type": "markdown",
   "metadata": {},
   "source": [
    "## To create a new Branch"
   ]
  },
  {
   "cell_type": "markdown",
   "metadata": {},
   "source": [
    "# git branch <newbranchname>"
   ]
  },
  {
   "cell_type": "markdown",
   "metadata": {},
   "source": [
    "after creating a new branch in the same file, to swicth from current branch to the new branch... let's say new branch name is branch2\n",
    "\n",
    "# git switch branch2"
   ]
  },
  {
   "cell_type": "markdown",
   "metadata": {},
   "source": [
    "now you are in branch2\n",
    "\n",
    "write new code\n",
    "\n",
    "if you execute it in terminal, it will display output\n",
    "\n",
    "---------------switch to main branch-------------------\n",
    "\n",
    "execute file from main branch will not display the output that you got from branch2\n",
    "\n",
    "the reason is these files aren't merged.\n",
    "\n",
    "Note: here the file is same, but the code is in diff branches."
   ]
  },
  {
   "cell_type": "markdown",
   "metadata": {},
   "source": [
    "# Merge Branch"
   ]
  },
  {
   "cell_type": "markdown",
   "metadata": {},
   "source": [
    "Move to main branch\n",
    "# git switch master"
   ]
  },
  {
   "cell_type": "markdown",
   "metadata": {},
   "source": [
    "# git merge branch2\n",
    "   - this command merges the both branches \n",
    "   - i.e merges the files of branch2 into main branch"
   ]
  },
  {
   "cell_type": "markdown",
   "metadata": {},
   "source": [
    "# Using Git Reset"
   ]
  },
  {
   "cell_type": "markdown",
   "metadata": {},
   "source": [
    "for every commit, you will get a commit id ...you can see that id when logged logs.\n",
    "\n",
    "# git log --oneline\n",
    "\n",
    "now you can those id's and can use them to reset the file to older version.\n",
    "\n",
    "# git reset --hard <code>\n",
    "   - The command is used to reset your Git repository to a specific commit.\n",
    "   - it removes all changes (both staged and unstaged) in your working directory."
   ]
  },
  {
   "cell_type": "markdown",
   "metadata": {},
   "source": [
    "# Git Checkout"
   ]
  },
  {
   "cell_type": "markdown",
   "metadata": {},
   "source": [
    "when you want to swicth to a specific commit or another branch...\n",
    "\n",
    "# git checkout <commid_id or branch_name>\n",
    "\n",
    "\n",
    "if used a commit_id, then head will now point out to this commit which is called detached head state.\n",
    "\n",
    "# git checkout <commit_id>  ... Detached Head State\n",
    "\n",
    "Detached HEAD State\n",
    "    - When you are in a detached HEAD state, your changes are not     associated with any branch. \n",
    "    - The changes are just staged or modified files, but they are not yet committed to a branch.\n",
    "\n",
    "\n",
    "but if you want to save changes made to this detached head state....you need make this a new branch and then commit changes.\n",
    "\n",
    "# git switch -c <new_branch_name>\n",
    "    - Once you've made your changes, use git switch -c <branch_name> to create a new branch and move to it. \n",
    "    - This will save the changes you've made up to that point in the newly created branch.\n",
    "    - This does not automatically commit your changes. It simply moves you onto the new branch, with the changes still there as uncommitted changes.\n",
    "\n",
    "# git commit -am 'message'\n",
    "   - this command is an combination of two commands in a single line.\n",
    "   - stages and commits only the modified files that Git is already tracking. \n",
    "   - It doesn't work for untracked (new) files. You need to use git add for new files first.\n",
    "   \n",
    "   # git add .\n",
    "   # git commit -m 'message'\n",
    "\n",
    "   # git commit -am 'message' "
   ]
  }
 ],
 "metadata": {
  "language_info": {
   "name": "python"
  }
 },
 "nbformat": 4,
 "nbformat_minor": 2
}
