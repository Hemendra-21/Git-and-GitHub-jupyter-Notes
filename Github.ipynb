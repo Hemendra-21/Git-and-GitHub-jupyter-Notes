{
 "cells": [
  {
   "cell_type": "markdown",
   "metadata": {},
   "source": [
    "### `adding origin`\n",
    "\n",
    "`git init`\n",
    "   - initializes a Git repository locally\n",
    "\n",
    "`git remote add origin <remote_repo_url>`\n",
    "   - Links it to a remote repository.\n",
    "\n",
    "`git remote -v`\n",
    "   - this command is used to check any remote exist already.\n",
    "\n",
    "`git push -u origin master`\n",
    "   - this command tells git to `push` from `master branch` to this `origin` which is our remote repository\n",
    "   - -u stands from `upstream`...if you need to push again from this branch....you dont need to enter whole command again.\n",
    "    `git push` is enough\n",
    "   \n",
    "`git push`\n",
    " - Move changes from `local repository to GitHub i.e Remote Repository`\n",
    "\n",
    "\n",
    "---------------------------------\n",
    "   \n",
    "\n"
   ]
  },
  {
   "cell_type": "markdown",
   "metadata": {},
   "source": [
    "### `Git pull`\n",
    "   changes made on github can be reflected into local repository.\n",
    "   - 1) create a readme file on github repo \n",
    "   - 2) inside local repo, use command `git pull origin master`\n",
    "\n",
    "   ----------------\n",
    "        "
   ]
  },
  {
   "cell_type": "markdown",
   "metadata": {},
   "source": [
    "### `Collaborating with team members`\n",
    "\n",
    "settings ---> manage access ---> invite colloborators.\n",
    "\n",
    "colloborators can make changes directly on github \n",
    "                  or\n",
    "can clone the repo on local machine and make changes then, push again.\n",
    "\n",
    "#### `to clone the repo` \n",
    "- click on code ---> copy https code ---> terminal ---> `git clone code`\n",
    "- make changes and `push`.\n",
    "\n",
    "------------\n"
   ]
  },
  {
   "cell_type": "markdown",
   "metadata": {},
   "source": [
    "### `Contributing to a project`\n",
    "- fork\n",
    "- pull requests\n",
    "- merge\n",
    "\n",
    "\n",
    "`fork` \n",
    "- clicking on fork (someone other's repo) will create an  exact copy of repo on your account.\n",
    "- clone the repo to your local machine\n",
    "- make needed changes and push \n",
    "- these changes are not reflected on authors repo, but on your repo only.\n",
    "\n",
    "\n",
    "`pull requests`\n",
    "- to make these changes reflect on authors repo, create pull request.\n",
    "- create new pull request\n",
    "- it will redirect to authors repo\n",
    "- can see the status, there are any conflicts or not.\n",
    "- click on create `pull request` if there are no conflicts\n",
    "- click on `create pull request`\n",
    "\n",
    "\n",
    "`merge`\n",
    "- author can see the request on his account\n",
    "- can review the changes\n",
    "- can approve/comment/request check\n",
    "- click on `merge pull request`\n",
    "\n",
    "done\n",
    "\n",
    "------------------------\n",
    "\n"
   ]
  }
 ],
 "metadata": {
  "language_info": {
   "name": "python"
  }
 },
 "nbformat": 4,
 "nbformat_minor": 2
}
